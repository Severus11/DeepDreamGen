{
 "cells": [
  {
   "cell_type": "code",
   "execution_count": 2,
   "metadata": {},
   "outputs": [],
   "source": [
    "from keras.applications import inception_v3\n",
    "from keras import backend as K\n",
    "\n",
    "K.set_learning_phase(0) #disable all training operations\n",
    "\n",
    "model = inception_v3.InceptionV3(weights='imagenet', include_top=False)"
   ]
  },
  {
   "cell_type": "code",
   "execution_count": null,
   "metadata": {},
   "outputs": [],
   "source": [
    "layer_contri  = {'mixed2': 0.7, 'mixed3': 2.2, 'mixed4': 1.2, 'mixed5': 0.2}\n",
    "layer_dict = dict([(layer.name, layer)for layer in model.layers])\n",
    "loss = K.variable(0.)\n",
    "\n",
    "for i in layer_contri:\n",
    "    coeff = layer_contri[i]\n",
    "    activation = layer_dict[i]\n",
    "    scaling = K.prod(K.cast(K.shape(activation), 'float32'))\n",
    "\n",
    "    loss += coeff * K.sum(K.square(activation[]))"
   ]
  }
 ],
 "metadata": {
  "interpreter": {
   "hash": "04635d289a519a1410467dd0afb0db42f9184808881ca68b2eb5a687a20a5a94"
  },
  "kernelspec": {
   "display_name": "Python 3.7.5 64-bit",
   "language": "python",
   "name": "python3"
  },
  "language_info": {
   "codemirror_mode": {
    "name": "ipython",
    "version": 3
   },
   "file_extension": ".py",
   "mimetype": "text/x-python",
   "name": "python",
   "nbconvert_exporter": "python",
   "pygments_lexer": "ipython3",
   "version": "3.7.5"
  },
  "orig_nbformat": 4
 },
 "nbformat": 4,
 "nbformat_minor": 2
}
